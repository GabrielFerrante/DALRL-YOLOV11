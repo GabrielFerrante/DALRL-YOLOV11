{
 "cells": [
  {
   "cell_type": "markdown",
   "id": "31f14f1c",
   "metadata": {},
   "source": [
    "# Etapa 1\n",
    "\n",
    "- Separação das bases de treino, pool, validação\n",
    "- Rotulação para formato YOLO.\n",
    "- Treinamento inicial do modelo YoloV11\n",
    " "
   ]
  },
  {
   "cell_type": "code",
   "execution_count": 1,
   "id": "b6061c1d",
   "metadata": {},
   "outputs": [],
   "source": [
    "import os\n",
    "from pycocotools.coco import COCO\n",
    "from sklearn.model_selection import train_test_split\n",
    "from tqdm import tqdm\n",
    "import shutil"
   ]
  },
  {
   "cell_type": "code",
   "execution_count": 2,
   "id": "cdcf294e",
   "metadata": {},
   "outputs": [
    {
     "name": "stdout",
     "output_type": "stream",
     "text": [
      "loading annotations into memory...\n",
      "Done (t=11.40s)\n",
      "creating index...\n",
      "index created!\n",
      "Mapeamento de IDs: {1: 0, 2: 1, 3: 2, 4: 3, 5: 4, 6: 5, 7: 6, 8: 7, 9: 8, 10: 9, 11: 10, 13: 11, 14: 12, 15: 13, 16: 14, 17: 15, 18: 16, 19: 17, 20: 18, 21: 19, 22: 20, 23: 21, 24: 22, 25: 23, 27: 24, 28: 25, 31: 26, 32: 27, 33: 28, 34: 29, 35: 30, 36: 31, 37: 32, 38: 33, 39: 34, 40: 35, 41: 36, 42: 37, 43: 38, 44: 39, 46: 40, 47: 41, 48: 42, 49: 43, 50: 44, 51: 45, 52: 46, 53: 47, 54: 48, 55: 49, 56: 50, 57: 51, 58: 52, 59: 53, 60: 54, 61: 55, 62: 56, 63: 57, 64: 58, 65: 59, 67: 60, 70: 61, 72: 62, 73: 63, 74: 64, 75: 65, 76: 66, 77: 67, 78: 68, 79: 69, 80: 70, 81: 71, 82: 72, 84: 73, 85: 74, 86: 75, 87: 76, 88: 77, 89: 78, 90: 79}\n"
     ]
    }
   ],
   "source": [
    "# Diretórios\n",
    "DATA_DIR = \"E:/COCO-Dataset/\"\n",
    "os.makedirs(DATA_DIR, exist_ok=True)\n",
    "\n",
    "img_dir = os.path.join(\"E:/COCO-Dataset/\", \"train2017/train2017/\")\n",
    "ann_file = os.path.join(\"E:/COCO-Dataset/\",\"annotations2017/annotations2017/instances_train2017.json\")\n",
    "\n",
    "# Carregar anotações\n",
    "coco = COCO(ann_file)\n",
    "img_ids = coco.getImgIds()\n",
    "\n",
    "categories = coco.loadCats(coco.getCatIds())\n",
    "categories.sort(key=lambda x: x['id'])  # Ordenar por ID original\n",
    "\n",
    "# Mapear ID original → ID sequencial (0-79)\n",
    "coco_id_to_yolo_id = {cat['id']: idx for idx, cat in enumerate(categories)}\n",
    "print(\"Mapeamento de IDs:\", coco_id_to_yolo_id)\n"
   ]
  },
  {
   "cell_type": "code",
   "execution_count": 3,
   "id": "d0689890",
   "metadata": {},
   "outputs": [
    {
     "name": "stdout",
     "output_type": "stream",
     "text": [
      "COCO ID: 1 → YOLO ID: 0 | Nome: person\n",
      "COCO ID: 2 → YOLO ID: 1 | Nome: bicycle\n",
      "COCO ID: 3 → YOLO ID: 2 | Nome: car\n",
      "COCO ID: 4 → YOLO ID: 3 | Nome: motorcycle\n",
      "COCO ID: 5 → YOLO ID: 4 | Nome: airplane\n",
      "COCO ID: 6 → YOLO ID: 5 | Nome: bus\n",
      "COCO ID: 7 → YOLO ID: 6 | Nome: train\n",
      "COCO ID: 8 → YOLO ID: 7 | Nome: truck\n",
      "COCO ID: 9 → YOLO ID: 8 | Nome: boat\n",
      "COCO ID: 10 → YOLO ID: 9 | Nome: traffic light\n",
      "COCO ID: 11 → YOLO ID: 10 | Nome: fire hydrant\n",
      "COCO ID: 13 → YOLO ID: 11 | Nome: stop sign\n",
      "COCO ID: 14 → YOLO ID: 12 | Nome: parking meter\n",
      "COCO ID: 15 → YOLO ID: 13 | Nome: bench\n",
      "COCO ID: 16 → YOLO ID: 14 | Nome: bird\n",
      "COCO ID: 17 → YOLO ID: 15 | Nome: cat\n",
      "COCO ID: 18 → YOLO ID: 16 | Nome: dog\n",
      "COCO ID: 19 → YOLO ID: 17 | Nome: horse\n",
      "COCO ID: 20 → YOLO ID: 18 | Nome: sheep\n",
      "COCO ID: 21 → YOLO ID: 19 | Nome: cow\n",
      "COCO ID: 22 → YOLO ID: 20 | Nome: elephant\n",
      "COCO ID: 23 → YOLO ID: 21 | Nome: bear\n",
      "COCO ID: 24 → YOLO ID: 22 | Nome: zebra\n",
      "COCO ID: 25 → YOLO ID: 23 | Nome: giraffe\n",
      "COCO ID: 27 → YOLO ID: 24 | Nome: backpack\n",
      "COCO ID: 28 → YOLO ID: 25 | Nome: umbrella\n",
      "COCO ID: 31 → YOLO ID: 26 | Nome: handbag\n",
      "COCO ID: 32 → YOLO ID: 27 | Nome: tie\n",
      "COCO ID: 33 → YOLO ID: 28 | Nome: suitcase\n",
      "COCO ID: 34 → YOLO ID: 29 | Nome: frisbee\n",
      "COCO ID: 35 → YOLO ID: 30 | Nome: skis\n",
      "COCO ID: 36 → YOLO ID: 31 | Nome: snowboard\n",
      "COCO ID: 37 → YOLO ID: 32 | Nome: sports ball\n",
      "COCO ID: 38 → YOLO ID: 33 | Nome: kite\n",
      "COCO ID: 39 → YOLO ID: 34 | Nome: baseball bat\n",
      "COCO ID: 40 → YOLO ID: 35 | Nome: baseball glove\n",
      "COCO ID: 41 → YOLO ID: 36 | Nome: skateboard\n",
      "COCO ID: 42 → YOLO ID: 37 | Nome: surfboard\n",
      "COCO ID: 43 → YOLO ID: 38 | Nome: tennis racket\n",
      "COCO ID: 44 → YOLO ID: 39 | Nome: bottle\n",
      "COCO ID: 46 → YOLO ID: 40 | Nome: wine glass\n",
      "COCO ID: 47 → YOLO ID: 41 | Nome: cup\n",
      "COCO ID: 48 → YOLO ID: 42 | Nome: fork\n",
      "COCO ID: 49 → YOLO ID: 43 | Nome: knife\n",
      "COCO ID: 50 → YOLO ID: 44 | Nome: spoon\n",
      "COCO ID: 51 → YOLO ID: 45 | Nome: bowl\n",
      "COCO ID: 52 → YOLO ID: 46 | Nome: banana\n",
      "COCO ID: 53 → YOLO ID: 47 | Nome: apple\n",
      "COCO ID: 54 → YOLO ID: 48 | Nome: sandwich\n",
      "COCO ID: 55 → YOLO ID: 49 | Nome: orange\n",
      "COCO ID: 56 → YOLO ID: 50 | Nome: broccoli\n",
      "COCO ID: 57 → YOLO ID: 51 | Nome: carrot\n",
      "COCO ID: 58 → YOLO ID: 52 | Nome: hot dog\n",
      "COCO ID: 59 → YOLO ID: 53 | Nome: pizza\n",
      "COCO ID: 60 → YOLO ID: 54 | Nome: donut\n",
      "COCO ID: 61 → YOLO ID: 55 | Nome: cake\n",
      "COCO ID: 62 → YOLO ID: 56 | Nome: chair\n",
      "COCO ID: 63 → YOLO ID: 57 | Nome: couch\n",
      "COCO ID: 64 → YOLO ID: 58 | Nome: potted plant\n",
      "COCO ID: 65 → YOLO ID: 59 | Nome: bed\n",
      "COCO ID: 67 → YOLO ID: 60 | Nome: dining table\n",
      "COCO ID: 70 → YOLO ID: 61 | Nome: toilet\n",
      "COCO ID: 72 → YOLO ID: 62 | Nome: tv\n",
      "COCO ID: 73 → YOLO ID: 63 | Nome: laptop\n",
      "COCO ID: 74 → YOLO ID: 64 | Nome: mouse\n",
      "COCO ID: 75 → YOLO ID: 65 | Nome: remote\n",
      "COCO ID: 76 → YOLO ID: 66 | Nome: keyboard\n",
      "COCO ID: 77 → YOLO ID: 67 | Nome: cell phone\n",
      "COCO ID: 78 → YOLO ID: 68 | Nome: microwave\n",
      "COCO ID: 79 → YOLO ID: 69 | Nome: oven\n",
      "COCO ID: 80 → YOLO ID: 70 | Nome: toaster\n",
      "COCO ID: 81 → YOLO ID: 71 | Nome: sink\n",
      "COCO ID: 82 → YOLO ID: 72 | Nome: refrigerator\n",
      "COCO ID: 84 → YOLO ID: 73 | Nome: book\n",
      "COCO ID: 85 → YOLO ID: 74 | Nome: clock\n",
      "COCO ID: 86 → YOLO ID: 75 | Nome: vase\n",
      "COCO ID: 87 → YOLO ID: 76 | Nome: scissors\n",
      "COCO ID: 88 → YOLO ID: 77 | Nome: teddy bear\n",
      "COCO ID: 89 → YOLO ID: 78 | Nome: hair drier\n",
      "COCO ID: 90 → YOLO ID: 79 | Nome: toothbrush\n"
     ]
    }
   ],
   "source": [
    "# Listar todas as categorias com IDs originais e YOLO\n",
    "for cat in categories:\n",
    "    print(f\"COCO ID: {cat['id']} → YOLO ID: {coco_id_to_yolo_id[cat['id']]} | Nome: {cat['name']}\")"
   ]
  },
  {
   "cell_type": "code",
   "execution_count": 4,
   "id": "92b8c998",
   "metadata": {},
   "outputs": [],
   "source": [
    "# Dividir dados em treino (20%) e validação (80%)\n",
    "train_ids, pool_ids = train_test_split(img_ids, test_size=0.8, random_state=42)\n"
   ]
  },
  {
   "cell_type": "code",
   "execution_count": 5,
   "id": "67cfb36a",
   "metadata": {},
   "outputs": [],
   "source": [
    "# Diretórios de saída\n",
    "train_img_dir = os.path.join(DATA_DIR, \"train2017/train/images\")\n",
    "train_label_dir = os.path.join(DATA_DIR, \"train2017/train/labels\")\n",
    "pool_img_dir = os.path.join(DATA_DIR, \"train2017/val/images\")\n",
    "pool_label_dir = os.path.join(DATA_DIR, \"train2017/val/labels\")\n",
    "\n",
    "# Criar diretórios\n",
    "os.makedirs(train_img_dir, exist_ok=True)\n",
    "os.makedirs(train_label_dir, exist_ok=True)\n",
    "os.makedirs(pool_img_dir, exist_ok=True)\n",
    "os.makedirs(pool_label_dir, exist_ok=True)\n",
    "\n"
   ]
  },
  {
   "cell_type": "code",
   "execution_count": 6,
   "id": "7b8fdf11",
   "metadata": {},
   "outputs": [],
   "source": [
    "\n",
    "def process_split(img_ids, target_img_dir, target_label_dir):\n",
    "    for img_id in tqdm(img_ids):\n",
    "        img_info = coco.loadImgs(img_id)[0]\n",
    "        img_file = img_info[\"file_name\"]\n",
    "        img_path = os.path.join(img_dir, img_file)\n",
    "        \n",
    "        # Mover imagem\n",
    "        shutil.copy(img_path, os.path.join(target_img_dir, img_file))\n",
    "        \n",
    "        # Gerar rótulo YOLO\n",
    "        label_path = os.path.join(target_label_dir, img_file.replace(\".jpg\", \".txt\"))\n",
    "        ann_ids = coco.getAnnIds(imgIds=img_id)\n",
    "        annotations = coco.loadAnns(ann_ids)\n",
    "        \n",
    "        with open(label_path, \"w\") as f:\n",
    "            for ann in annotations:\n",
    "                if \"bbox\" not in ann or ann[\"area\"] <= 0:\n",
    "                    continue\n",
    "                \n",
    "                # Converter ID COCO para YOLO\n",
    "                yolo_class_id = coco_id_to_yolo_id.get(ann['category_id'], -1)\n",
    "                if yolo_class_id == -1:  # Pular classes não mapeadas\n",
    "                    continue\n",
    "                \n",
    "                # Converter bbox\n",
    "                x, y, w, h = ann[\"bbox\"]\n",
    "                img_width = img_info[\"width\"]\n",
    "                img_height = img_info[\"height\"]\n",
    "                \n",
    "                x_center = (x + w / 2) / img_width\n",
    "                y_center = (y + h / 2) / img_height\n",
    "                w_norm = w / img_width\n",
    "                h_norm = h / img_height\n",
    "                \n",
    "                f.write(f\"{yolo_class_id} {x_center:.6f} {y_center:.6f} {w_norm:.6f} {h_norm:.6f}\\n\")"
   ]
  },
  {
   "cell_type": "code",
   "execution_count": null,
   "id": "ebbe6032",
   "metadata": {},
   "outputs": [
    {
     "name": "stderr",
     "output_type": "stream",
     "text": [
      "100%|██████████| 23657/23657 [03:39<00:00, 107.76it/s]\n",
      "100%|██████████| 94630/94630 [14:35<00:00, 108.14it/s]\n"
     ]
    }
   ],
   "source": [
    "# Processar split de treino\n",
    "process_split(train_ids, train_img_dir, train_label_dir)\n",
    "\n",
    "# Processar split de pool\n",
    "process_split(pool_ids, pool_img_dir, pool_label_dir)"
   ]
  },
  {
   "cell_type": "markdown",
   "id": "f36a53b8",
   "metadata": {},
   "source": [
    "### Fazendo o mesmo para o conjunto de validação"
   ]
  },
  {
   "cell_type": "code",
   "execution_count": 8,
   "id": "b99c4781",
   "metadata": {},
   "outputs": [
    {
     "name": "stdout",
     "output_type": "stream",
     "text": [
      "loading annotations into memory...\n",
      "Done (t=1.08s)\n",
      "creating index...\n",
      "index created!\n",
      "Mapeamento de IDs: {1: 0, 2: 1, 3: 2, 4: 3, 5: 4, 6: 5, 7: 6, 8: 7, 9: 8, 10: 9, 11: 10, 13: 11, 14: 12, 15: 13, 16: 14, 17: 15, 18: 16, 19: 17, 20: 18, 21: 19, 22: 20, 23: 21, 24: 22, 25: 23, 27: 24, 28: 25, 31: 26, 32: 27, 33: 28, 34: 29, 35: 30, 36: 31, 37: 32, 38: 33, 39: 34, 40: 35, 41: 36, 42: 37, 43: 38, 44: 39, 46: 40, 47: 41, 48: 42, 49: 43, 50: 44, 51: 45, 52: 46, 53: 47, 54: 48, 55: 49, 56: 50, 57: 51, 58: 52, 59: 53, 60: 54, 61: 55, 62: 56, 63: 57, 64: 58, 65: 59, 67: 60, 70: 61, 72: 62, 73: 63, 74: 64, 75: 65, 76: 66, 77: 67, 78: 68, 79: 69, 80: 70, 81: 71, 82: 72, 84: 73, 85: 74, 86: 75, 87: 76, 88: 77, 89: 78, 90: 79}\n"
     ]
    }
   ],
   "source": [
    "# Diretórios\n",
    "DATA_DIR = \"E:/COCO-Dataset/\"\n",
    "os.makedirs(DATA_DIR, exist_ok=True)\n",
    "\n",
    "img_dir = os.path.join(\"E:/COCO-Dataset/\", \"val2017/val2017/\")\n",
    "ann_file = os.path.join(\"E:/COCO-Dataset/\",\"annotations2017/annotations2017/instances_val2017.json\")\n",
    "\n",
    "# Carregar anotações\n",
    "coco = COCO(ann_file)\n",
    "img_ids_val = coco.getImgIds()\n",
    "\n",
    "categories = coco.loadCats(coco.getCatIds())\n",
    "categories.sort(key=lambda x: x['id'])  # Ordenar por ID original\n",
    "\n",
    "# Mapear ID original → ID sequencial (0-79)\n",
    "coco_id_to_yolo_id = {cat['id']: idx for idx, cat in enumerate(categories)}\n",
    "print(\"Mapeamento de IDs:\", coco_id_to_yolo_id)"
   ]
  },
  {
   "cell_type": "code",
   "execution_count": 9,
   "id": "646f8b9e",
   "metadata": {},
   "outputs": [
    {
     "name": "stdout",
     "output_type": "stream",
     "text": [
      "COCO ID: 1 → YOLO ID: 0 | Nome: person\n",
      "COCO ID: 2 → YOLO ID: 1 | Nome: bicycle\n",
      "COCO ID: 3 → YOLO ID: 2 | Nome: car\n",
      "COCO ID: 4 → YOLO ID: 3 | Nome: motorcycle\n",
      "COCO ID: 5 → YOLO ID: 4 | Nome: airplane\n",
      "COCO ID: 6 → YOLO ID: 5 | Nome: bus\n",
      "COCO ID: 7 → YOLO ID: 6 | Nome: train\n",
      "COCO ID: 8 → YOLO ID: 7 | Nome: truck\n",
      "COCO ID: 9 → YOLO ID: 8 | Nome: boat\n",
      "COCO ID: 10 → YOLO ID: 9 | Nome: traffic light\n",
      "COCO ID: 11 → YOLO ID: 10 | Nome: fire hydrant\n",
      "COCO ID: 13 → YOLO ID: 11 | Nome: stop sign\n",
      "COCO ID: 14 → YOLO ID: 12 | Nome: parking meter\n",
      "COCO ID: 15 → YOLO ID: 13 | Nome: bench\n",
      "COCO ID: 16 → YOLO ID: 14 | Nome: bird\n",
      "COCO ID: 17 → YOLO ID: 15 | Nome: cat\n",
      "COCO ID: 18 → YOLO ID: 16 | Nome: dog\n",
      "COCO ID: 19 → YOLO ID: 17 | Nome: horse\n",
      "COCO ID: 20 → YOLO ID: 18 | Nome: sheep\n",
      "COCO ID: 21 → YOLO ID: 19 | Nome: cow\n",
      "COCO ID: 22 → YOLO ID: 20 | Nome: elephant\n",
      "COCO ID: 23 → YOLO ID: 21 | Nome: bear\n",
      "COCO ID: 24 → YOLO ID: 22 | Nome: zebra\n",
      "COCO ID: 25 → YOLO ID: 23 | Nome: giraffe\n",
      "COCO ID: 27 → YOLO ID: 24 | Nome: backpack\n",
      "COCO ID: 28 → YOLO ID: 25 | Nome: umbrella\n",
      "COCO ID: 31 → YOLO ID: 26 | Nome: handbag\n",
      "COCO ID: 32 → YOLO ID: 27 | Nome: tie\n",
      "COCO ID: 33 → YOLO ID: 28 | Nome: suitcase\n",
      "COCO ID: 34 → YOLO ID: 29 | Nome: frisbee\n",
      "COCO ID: 35 → YOLO ID: 30 | Nome: skis\n",
      "COCO ID: 36 → YOLO ID: 31 | Nome: snowboard\n",
      "COCO ID: 37 → YOLO ID: 32 | Nome: sports ball\n",
      "COCO ID: 38 → YOLO ID: 33 | Nome: kite\n",
      "COCO ID: 39 → YOLO ID: 34 | Nome: baseball bat\n",
      "COCO ID: 40 → YOLO ID: 35 | Nome: baseball glove\n",
      "COCO ID: 41 → YOLO ID: 36 | Nome: skateboard\n",
      "COCO ID: 42 → YOLO ID: 37 | Nome: surfboard\n",
      "COCO ID: 43 → YOLO ID: 38 | Nome: tennis racket\n",
      "COCO ID: 44 → YOLO ID: 39 | Nome: bottle\n",
      "COCO ID: 46 → YOLO ID: 40 | Nome: wine glass\n",
      "COCO ID: 47 → YOLO ID: 41 | Nome: cup\n",
      "COCO ID: 48 → YOLO ID: 42 | Nome: fork\n",
      "COCO ID: 49 → YOLO ID: 43 | Nome: knife\n",
      "COCO ID: 50 → YOLO ID: 44 | Nome: spoon\n",
      "COCO ID: 51 → YOLO ID: 45 | Nome: bowl\n",
      "COCO ID: 52 → YOLO ID: 46 | Nome: banana\n",
      "COCO ID: 53 → YOLO ID: 47 | Nome: apple\n",
      "COCO ID: 54 → YOLO ID: 48 | Nome: sandwich\n",
      "COCO ID: 55 → YOLO ID: 49 | Nome: orange\n",
      "COCO ID: 56 → YOLO ID: 50 | Nome: broccoli\n",
      "COCO ID: 57 → YOLO ID: 51 | Nome: carrot\n",
      "COCO ID: 58 → YOLO ID: 52 | Nome: hot dog\n",
      "COCO ID: 59 → YOLO ID: 53 | Nome: pizza\n",
      "COCO ID: 60 → YOLO ID: 54 | Nome: donut\n",
      "COCO ID: 61 → YOLO ID: 55 | Nome: cake\n",
      "COCO ID: 62 → YOLO ID: 56 | Nome: chair\n",
      "COCO ID: 63 → YOLO ID: 57 | Nome: couch\n",
      "COCO ID: 64 → YOLO ID: 58 | Nome: potted plant\n",
      "COCO ID: 65 → YOLO ID: 59 | Nome: bed\n",
      "COCO ID: 67 → YOLO ID: 60 | Nome: dining table\n",
      "COCO ID: 70 → YOLO ID: 61 | Nome: toilet\n",
      "COCO ID: 72 → YOLO ID: 62 | Nome: tv\n",
      "COCO ID: 73 → YOLO ID: 63 | Nome: laptop\n",
      "COCO ID: 74 → YOLO ID: 64 | Nome: mouse\n",
      "COCO ID: 75 → YOLO ID: 65 | Nome: remote\n",
      "COCO ID: 76 → YOLO ID: 66 | Nome: keyboard\n",
      "COCO ID: 77 → YOLO ID: 67 | Nome: cell phone\n",
      "COCO ID: 78 → YOLO ID: 68 | Nome: microwave\n",
      "COCO ID: 79 → YOLO ID: 69 | Nome: oven\n",
      "COCO ID: 80 → YOLO ID: 70 | Nome: toaster\n",
      "COCO ID: 81 → YOLO ID: 71 | Nome: sink\n",
      "COCO ID: 82 → YOLO ID: 72 | Nome: refrigerator\n",
      "COCO ID: 84 → YOLO ID: 73 | Nome: book\n",
      "COCO ID: 85 → YOLO ID: 74 | Nome: clock\n",
      "COCO ID: 86 → YOLO ID: 75 | Nome: vase\n",
      "COCO ID: 87 → YOLO ID: 76 | Nome: scissors\n",
      "COCO ID: 88 → YOLO ID: 77 | Nome: teddy bear\n",
      "COCO ID: 89 → YOLO ID: 78 | Nome: hair drier\n",
      "COCO ID: 90 → YOLO ID: 79 | Nome: toothbrush\n"
     ]
    }
   ],
   "source": [
    "# Listar todas as categorias com IDs originais e YOLO\n",
    "for cat in categories:\n",
    "    print(f\"COCO ID: {cat['id']} → YOLO ID: {coco_id_to_yolo_id[cat['id']]} | Nome: {cat['name']}\")"
   ]
  },
  {
   "cell_type": "code",
   "execution_count": 10,
   "id": "fb5f2c5f",
   "metadata": {},
   "outputs": [],
   "source": [
    "# Diretórios de saída\n",
    "\n",
    "val_img_dir = \"E:/COCO-Dataset/val2017/images\"\n",
    "val_label_dir = \"E:/COCO-Dataset/val2017/labels\"\n",
    "\n",
    "os.makedirs(val_img_dir, exist_ok=True)\n",
    "os.makedirs(val_label_dir, exist_ok=True)"
   ]
  },
  {
   "cell_type": "code",
   "execution_count": 11,
   "id": "6eb52d34",
   "metadata": {},
   "outputs": [
    {
     "name": "stderr",
     "output_type": "stream",
     "text": [
      "100%|██████████| 5000/5000 [00:51<00:00, 97.81it/s] \n"
     ]
    }
   ],
   "source": [
    "# Processar split de validação\n",
    "process_split(img_ids_val, val_img_dir, val_label_dir)"
   ]
  }
 ],
 "metadata": {
  "kernelspec": {
   "display_name": "MODERN",
   "language": "python",
   "name": "python3"
  },
  "language_info": {
   "codemirror_mode": {
    "name": "ipython",
    "version": 3
   },
   "file_extension": ".py",
   "mimetype": "text/x-python",
   "name": "python",
   "nbconvert_exporter": "python",
   "pygments_lexer": "ipython3",
   "version": "3.13.2"
  }
 },
 "nbformat": 4,
 "nbformat_minor": 5
}
