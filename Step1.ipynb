{
 "cells": [
  {
   "cell_type": "markdown",
   "id": "31f14f1c",
   "metadata": {},
   "source": [
    "# Etapa 1\n",
    "\n",
    "- Treinamento inicial do modelo YoloV11\n",
    " "
   ]
  },
  {
   "cell_type": "code",
   "execution_count": 1,
   "id": "b6061c1d",
   "metadata": {},
   "outputs": [],
   "source": [
    "import os\n",
    "import torch\n",
    "from pycocotools.coco import COCO\n",
    "from sklearn.model_selection import train_test_split\n",
    "from tqdm import tqdm\n",
    "import shutil"
   ]
  },
  {
   "cell_type": "code",
   "execution_count": 2,
   "id": "cdcf294e",
   "metadata": {},
   "outputs": [
    {
     "name": "stdout",
     "output_type": "stream",
     "text": [
      "loading annotations into memory...\n",
      "Done (t=0.47s)\n",
      "creating index...\n",
      "index created!\n",
      "Mapeamento de IDs: {1: 0, 2: 1, 3: 2, 4: 3, 5: 4, 6: 5, 7: 6, 8: 7, 9: 8, 10: 9, 11: 10, 13: 11, 14: 12, 15: 13, 16: 14, 17: 15, 18: 16, 19: 17, 20: 18, 21: 19, 22: 20, 23: 21, 24: 22, 25: 23, 27: 24, 28: 25, 31: 26, 32: 27, 33: 28, 34: 29, 35: 30, 36: 31, 37: 32, 38: 33, 39: 34, 40: 35, 41: 36, 42: 37, 43: 38, 44: 39, 46: 40, 47: 41, 48: 42, 49: 43, 50: 44, 51: 45, 52: 46, 53: 47, 54: 48, 55: 49, 56: 50, 57: 51, 58: 52, 59: 53, 60: 54, 61: 55, 62: 56, 63: 57, 64: 58, 65: 59, 67: 60, 70: 61, 72: 62, 73: 63, 74: 64, 75: 65, 76: 66, 77: 67, 78: 68, 79: 69, 80: 70, 81: 71, 82: 72, 84: 73, 85: 74, 86: 75, 87: 76, 88: 77, 89: 78, 90: 79}\n"
     ]
    }
   ],
   "source": [
    "# Diretórios\n",
    "DATA_DIR = \"E:/COCO-Dataset/\"\n",
    "os.makedirs(DATA_DIR, exist_ok=True)\n",
    "\n",
    "img_dir = os.path.join(\"E:/COCO-Dataset/\", \"val2017/val2017/\")\n",
    "ann_file = os.path.join(\"E:/COCO-Dataset/\",\"annotations2017/annotations2017/instances_val2017.json\")\n",
    "\n",
    "# Carregar anotações\n",
    "coco = COCO(ann_file)\n",
    "img_ids = coco.getImgIds()\n",
    "\n",
    "categories = coco.loadCats(coco.getCatIds())\n",
    "categories.sort(key=lambda x: x['id'])  # Ordenar por ID original\n",
    "\n",
    "# Mapear ID original → ID sequencial (0-79)\n",
    "coco_id_to_yolo_id = {cat['id']: idx for idx, cat in enumerate(categories)}\n",
    "print(\"Mapeamento de IDs:\", coco_id_to_yolo_id)\n"
   ]
  },
  {
   "cell_type": "code",
   "execution_count": 3,
   "id": "d0689890",
   "metadata": {},
   "outputs": [
    {
     "name": "stdout",
     "output_type": "stream",
     "text": [
      "COCO ID: 1 → YOLO ID: 0 | Nome: person\n",
      "COCO ID: 2 → YOLO ID: 1 | Nome: bicycle\n",
      "COCO ID: 3 → YOLO ID: 2 | Nome: car\n",
      "COCO ID: 4 → YOLO ID: 3 | Nome: motorcycle\n",
      "COCO ID: 5 → YOLO ID: 4 | Nome: airplane\n",
      "COCO ID: 6 → YOLO ID: 5 | Nome: bus\n",
      "COCO ID: 7 → YOLO ID: 6 | Nome: train\n",
      "COCO ID: 8 → YOLO ID: 7 | Nome: truck\n",
      "COCO ID: 9 → YOLO ID: 8 | Nome: boat\n",
      "COCO ID: 10 → YOLO ID: 9 | Nome: traffic light\n",
      "COCO ID: 11 → YOLO ID: 10 | Nome: fire hydrant\n",
      "COCO ID: 13 → YOLO ID: 11 | Nome: stop sign\n",
      "COCO ID: 14 → YOLO ID: 12 | Nome: parking meter\n",
      "COCO ID: 15 → YOLO ID: 13 | Nome: bench\n",
      "COCO ID: 16 → YOLO ID: 14 | Nome: bird\n",
      "COCO ID: 17 → YOLO ID: 15 | Nome: cat\n",
      "COCO ID: 18 → YOLO ID: 16 | Nome: dog\n",
      "COCO ID: 19 → YOLO ID: 17 | Nome: horse\n",
      "COCO ID: 20 → YOLO ID: 18 | Nome: sheep\n",
      "COCO ID: 21 → YOLO ID: 19 | Nome: cow\n",
      "COCO ID: 22 → YOLO ID: 20 | Nome: elephant\n",
      "COCO ID: 23 → YOLO ID: 21 | Nome: bear\n",
      "COCO ID: 24 → YOLO ID: 22 | Nome: zebra\n",
      "COCO ID: 25 → YOLO ID: 23 | Nome: giraffe\n",
      "COCO ID: 27 → YOLO ID: 24 | Nome: backpack\n",
      "COCO ID: 28 → YOLO ID: 25 | Nome: umbrella\n",
      "COCO ID: 31 → YOLO ID: 26 | Nome: handbag\n",
      "COCO ID: 32 → YOLO ID: 27 | Nome: tie\n",
      "COCO ID: 33 → YOLO ID: 28 | Nome: suitcase\n",
      "COCO ID: 34 → YOLO ID: 29 | Nome: frisbee\n",
      "COCO ID: 35 → YOLO ID: 30 | Nome: skis\n",
      "COCO ID: 36 → YOLO ID: 31 | Nome: snowboard\n",
      "COCO ID: 37 → YOLO ID: 32 | Nome: sports ball\n",
      "COCO ID: 38 → YOLO ID: 33 | Nome: kite\n",
      "COCO ID: 39 → YOLO ID: 34 | Nome: baseball bat\n",
      "COCO ID: 40 → YOLO ID: 35 | Nome: baseball glove\n",
      "COCO ID: 41 → YOLO ID: 36 | Nome: skateboard\n",
      "COCO ID: 42 → YOLO ID: 37 | Nome: surfboard\n",
      "COCO ID: 43 → YOLO ID: 38 | Nome: tennis racket\n",
      "COCO ID: 44 → YOLO ID: 39 | Nome: bottle\n",
      "COCO ID: 46 → YOLO ID: 40 | Nome: wine glass\n",
      "COCO ID: 47 → YOLO ID: 41 | Nome: cup\n",
      "COCO ID: 48 → YOLO ID: 42 | Nome: fork\n",
      "COCO ID: 49 → YOLO ID: 43 | Nome: knife\n",
      "COCO ID: 50 → YOLO ID: 44 | Nome: spoon\n",
      "COCO ID: 51 → YOLO ID: 45 | Nome: bowl\n",
      "COCO ID: 52 → YOLO ID: 46 | Nome: banana\n",
      "COCO ID: 53 → YOLO ID: 47 | Nome: apple\n",
      "COCO ID: 54 → YOLO ID: 48 | Nome: sandwich\n",
      "COCO ID: 55 → YOLO ID: 49 | Nome: orange\n",
      "COCO ID: 56 → YOLO ID: 50 | Nome: broccoli\n",
      "COCO ID: 57 → YOLO ID: 51 | Nome: carrot\n",
      "COCO ID: 58 → YOLO ID: 52 | Nome: hot dog\n",
      "COCO ID: 59 → YOLO ID: 53 | Nome: pizza\n",
      "COCO ID: 60 → YOLO ID: 54 | Nome: donut\n",
      "COCO ID: 61 → YOLO ID: 55 | Nome: cake\n",
      "COCO ID: 62 → YOLO ID: 56 | Nome: chair\n",
      "COCO ID: 63 → YOLO ID: 57 | Nome: couch\n",
      "COCO ID: 64 → YOLO ID: 58 | Nome: potted plant\n",
      "COCO ID: 65 → YOLO ID: 59 | Nome: bed\n",
      "COCO ID: 67 → YOLO ID: 60 | Nome: dining table\n",
      "COCO ID: 70 → YOLO ID: 61 | Nome: toilet\n",
      "COCO ID: 72 → YOLO ID: 62 | Nome: tv\n",
      "COCO ID: 73 → YOLO ID: 63 | Nome: laptop\n",
      "COCO ID: 74 → YOLO ID: 64 | Nome: mouse\n",
      "COCO ID: 75 → YOLO ID: 65 | Nome: remote\n",
      "COCO ID: 76 → YOLO ID: 66 | Nome: keyboard\n",
      "COCO ID: 77 → YOLO ID: 67 | Nome: cell phone\n",
      "COCO ID: 78 → YOLO ID: 68 | Nome: microwave\n",
      "COCO ID: 79 → YOLO ID: 69 | Nome: oven\n",
      "COCO ID: 80 → YOLO ID: 70 | Nome: toaster\n",
      "COCO ID: 81 → YOLO ID: 71 | Nome: sink\n",
      "COCO ID: 82 → YOLO ID: 72 | Nome: refrigerator\n",
      "COCO ID: 84 → YOLO ID: 73 | Nome: book\n",
      "COCO ID: 85 → YOLO ID: 74 | Nome: clock\n",
      "COCO ID: 86 → YOLO ID: 75 | Nome: vase\n",
      "COCO ID: 87 → YOLO ID: 76 | Nome: scissors\n",
      "COCO ID: 88 → YOLO ID: 77 | Nome: teddy bear\n",
      "COCO ID: 89 → YOLO ID: 78 | Nome: hair drier\n",
      "COCO ID: 90 → YOLO ID: 79 | Nome: toothbrush\n"
     ]
    }
   ],
   "source": [
    "# Listar todas as categorias com IDs originais e YOLO\n",
    "for cat in categories:\n",
    "    print(f\"COCO ID: {cat['id']} → YOLO ID: {coco_id_to_yolo_id[cat['id']]} | Nome: {cat['name']}\")"
   ]
  },
  {
   "cell_type": "code",
   "execution_count": 4,
   "id": "92b8c998",
   "metadata": {},
   "outputs": [],
   "source": [
    "# Dividir dados em treino (20%) e validação (80%)\n",
    "train_ids, val_ids = train_test_split(img_ids, test_size=0.8, random_state=42)\n"
   ]
  },
  {
   "cell_type": "code",
   "execution_count": 5,
   "id": "67cfb36a",
   "metadata": {},
   "outputs": [],
   "source": [
    "# Diretórios de saída\n",
    "train_img_dir = os.path.join(DATA_DIR, \"val2017/train/images\")\n",
    "train_label_dir = os.path.join(DATA_DIR, \"val2017/train/labels\")\n",
    "val_img_dir = os.path.join(DATA_DIR, \"val2017/val/images\")\n",
    "val_label_dir = os.path.join(DATA_DIR, \"val2017/val/labels\")\n",
    "\n",
    "# Criar diretórios\n",
    "os.makedirs(train_img_dir, exist_ok=True)\n",
    "os.makedirs(train_label_dir, exist_ok=True)\n",
    "os.makedirs(val_img_dir, exist_ok=True)\n",
    "os.makedirs(val_label_dir, exist_ok=True)\n",
    "\n"
   ]
  },
  {
   "cell_type": "code",
   "execution_count": 6,
   "id": "7b8fdf11",
   "metadata": {},
   "outputs": [],
   "source": [
    "\n",
    "def process_split(img_ids, target_img_dir, target_label_dir):\n",
    "    for img_id in tqdm(img_ids):\n",
    "        img_info = coco.loadImgs(img_id)[0]\n",
    "        img_file = img_info[\"file_name\"]\n",
    "        img_path = os.path.join(img_dir, img_file)\n",
    "        \n",
    "        # Mover imagem\n",
    "        shutil.copy(img_path, os.path.join(target_img_dir, img_file))\n",
    "        \n",
    "        # Gerar rótulo YOLO\n",
    "        label_path = os.path.join(target_label_dir, img_file.replace(\".jpg\", \".txt\"))\n",
    "        ann_ids = coco.getAnnIds(imgIds=img_id)\n",
    "        annotations = coco.loadAnns(ann_ids)\n",
    "        \n",
    "        with open(label_path, \"w\") as f:\n",
    "            for ann in annotations:\n",
    "                if \"bbox\" not in ann or ann[\"area\"] <= 0:\n",
    "                    continue\n",
    "                \n",
    "                # Converter ID COCO para YOLO\n",
    "                yolo_class_id = coco_id_to_yolo_id.get(ann['category_id'], -1)\n",
    "                if yolo_class_id == -1:  # Pular classes não mapeadas\n",
    "                    continue\n",
    "                \n",
    "                # Converter bbox\n",
    "                x, y, w, h = ann[\"bbox\"]\n",
    "                img_width = img_info[\"width\"]\n",
    "                img_height = img_info[\"height\"]\n",
    "                \n",
    "                x_center = (x + w / 2) / img_width\n",
    "                y_center = (y + h / 2) / img_height\n",
    "                w_norm = w / img_width\n",
    "                h_norm = h / img_height\n",
    "                \n",
    "                f.write(f\"{yolo_class_id} {x_center:.6f} {y_center:.6f} {w_norm:.6f} {h_norm:.6f}\\n\")"
   ]
  },
  {
   "cell_type": "code",
   "execution_count": 7,
   "id": "ebbe6032",
   "metadata": {},
   "outputs": [
    {
     "name": "stderr",
     "output_type": "stream",
     "text": [
      "100%|██████████| 1000/1000 [00:08<00:00, 112.89it/s]\n",
      "100%|██████████| 4000/4000 [00:33<00:00, 117.73it/s]\n"
     ]
    }
   ],
   "source": [
    "# Processar split de treino\n",
    "process_split(train_ids, train_img_dir, train_label_dir)\n",
    "\n",
    "# Processar split de validação\n",
    "process_split(val_ids, val_img_dir, val_label_dir)"
   ]
  },
  {
   "cell_type": "code",
   "execution_count": 8,
   "id": "6dee7925",
   "metadata": {},
   "outputs": [],
   "source": [
    "from ultralytics import YOLO\n",
    "\n",
    "# Configuração do modelo (supondo que 'yolov11x' é a versão completa)\n",
    "model = YOLO(\"yolo11x.pt\")    # Se existir um weights pré-treinado\n",
    "\n",
    "# Hiperparâmetros customizados (opcional)\n",
    "model.args = {\n",
    "    'epochs': 50,\n",
    "    'batch': 8,\n",
    "    'imgsz': 480,\n",
    "    'optimizer': 'AdamW',\n",
    "    'lr0': 0.001,\n",
    "    'data': 'coco.yaml',\n",
    "    'device' : 0,\n",
    "}"
   ]
  },
  {
   "cell_type": "code",
   "execution_count": null,
   "id": "3db0a13c",
   "metadata": {},
   "outputs": [
    {
     "name": "stdout",
     "output_type": "stream",
     "text": [
      "New https://pypi.org/project/ultralytics/8.3.137 available  Update with 'pip install -U ultralytics'\n",
      "Ultralytics 8.3.135  Python-3.13.2 torch-2.7.0+cu128 CUDA:0 (NVIDIA GeForce RTX 3060, 8192MiB)\n",
      "\u001b[34m\u001b[1mengine\\trainer: \u001b[0magnostic_nms=False, amp=True, augment=False, auto_augment=randaugment, batch=8, bgr=0.0, box=7.5, cache=False, cfg=None, classes=None, close_mosaic=10, cls=0.5, conf=None, copy_paste=0.0, copy_paste_mode=flip, cos_lr=False, cutmix=0.0, data=coco.yaml, degrees=0.0, deterministic=True, device=None, dfl=1.5, dnn=False, dropout=0.0, dynamic=False, embed=None, epochs=50, erasing=0.4, exist_ok=False, fliplr=0.5, flipud=0.0, format=torchscript, fraction=1.0, freeze=None, half=False, hsv_h=0.015, hsv_s=0.7, hsv_v=0.4, imgsz=480, int8=False, iou=0.7, keras=False, kobj=1.0, line_width=None, lr0=0.01, lrf=0.01, mask_ratio=4, max_det=300, mixup=0.0, mode=train, model=yolo11x.pt, momentum=0.937, mosaic=1.0, multi_scale=False, name=yolov11-initial, nbs=64, nms=False, opset=None, optimize=False, optimizer=auto, overlap_mask=True, patience=100, perspective=0.0, plots=True, pose=12.0, pretrained=True, profile=False, project=None, rect=False, resume=False, retina_masks=False, save=True, save_conf=False, save_crop=False, save_dir=runs\\detect\\yolov11-initial, save_frames=False, save_json=False, save_period=-1, save_txt=False, scale=0.5, seed=0, shear=0.0, show=False, show_boxes=True, show_conf=True, show_labels=True, simplify=True, single_cls=False, source=None, split=val, stream_buffer=False, task=detect, time=None, tracker=botsort.yaml, translate=0.1, val=True, verbose=True, vid_stride=1, visualize=False, warmup_bias_lr=0.1, warmup_epochs=3.0, warmup_momentum=0.8, weight_decay=0.0005, workers=8, workspace=None\n",
      "\n",
      "                   from  n    params  module                                       arguments                     \n",
      "  0                  -1  1      2784  ultralytics.nn.modules.conv.Conv             [3, 96, 3, 2]                 \n",
      "  1                  -1  1    166272  ultralytics.nn.modules.conv.Conv             [96, 192, 3, 2]               \n",
      "  2                  -1  2    389760  ultralytics.nn.modules.block.C3k2            [192, 384, 2, True, 0.25]     \n",
      "  3                  -1  1   1327872  ultralytics.nn.modules.conv.Conv             [384, 384, 3, 2]              \n",
      "  4                  -1  2   1553664  ultralytics.nn.modules.block.C3k2            [384, 768, 2, True, 0.25]     \n",
      "  5                  -1  1   5309952  ultralytics.nn.modules.conv.Conv             [768, 768, 3, 2]              \n",
      "  6                  -1  2   5022720  ultralytics.nn.modules.block.C3k2            [768, 768, 2, True]           \n",
      "  7                  -1  1   5309952  ultralytics.nn.modules.conv.Conv             [768, 768, 3, 2]              \n",
      "  8                  -1  2   5022720  ultralytics.nn.modules.block.C3k2            [768, 768, 2, True]           \n",
      "  9                  -1  1   1476864  ultralytics.nn.modules.block.SPPF            [768, 768, 5]                 \n",
      " 10                  -1  2   3264768  ultralytics.nn.modules.block.C2PSA           [768, 768, 2]                 \n",
      " 11                  -1  1         0  torch.nn.modules.upsampling.Upsample         [None, 2, 'nearest']          \n",
      " 12             [-1, 6]  1         0  ultralytics.nn.modules.conv.Concat           [1]                           \n",
      " 13                  -1  2   5612544  ultralytics.nn.modules.block.C3k2            [1536, 768, 2, True]          \n",
      " 14                  -1  1         0  torch.nn.modules.upsampling.Upsample         [None, 2, 'nearest']          \n",
      " 15             [-1, 4]  1         0  ultralytics.nn.modules.conv.Concat           [1]                           \n",
      " 16                  -1  2   1700352  ultralytics.nn.modules.block.C3k2            [1536, 384, 2, True]          \n",
      " 17                  -1  1   1327872  ultralytics.nn.modules.conv.Conv             [384, 384, 3, 2]              \n",
      " 18            [-1, 13]  1         0  ultralytics.nn.modules.conv.Concat           [1]                           \n",
      " 19                  -1  2   5317632  ultralytics.nn.modules.block.C3k2            [1152, 768, 2, True]          \n",
      " 20                  -1  1   5309952  ultralytics.nn.modules.conv.Conv             [768, 768, 3, 2]              \n",
      " 21            [-1, 10]  1         0  ultralytics.nn.modules.conv.Concat           [1]                           \n",
      " 22                  -1  2   5612544  ultralytics.nn.modules.block.C3k2            [1536, 768, 2, True]          \n",
      " 23        [16, 19, 22]  1   3237952  ultralytics.nn.modules.head.Detect           [80, [384, 768, 768]]         \n",
      "YOLO11x summary: 357 layers, 56,966,176 parameters, 56,966,160 gradients, 196.0 GFLOPs\n",
      "\n",
      "Transferred 1015/1015 items from pretrained weights\n",
      "Freezing layer 'model.23.dfl.conv.weight'\n",
      "\u001b[34m\u001b[1mAMP: \u001b[0mrunning Automatic Mixed Precision (AMP) checks...\n",
      "\u001b[34m\u001b[1mAMP: \u001b[0mchecks passed \n",
      "\u001b[34m\u001b[1mtrain: \u001b[0mFast image access  (ping: 0.00.0 ms, read: 38.18.5 MB/s, size: 212.7 KB)\n"
     ]
    },
    {
     "name": "stderr",
     "output_type": "stream",
     "text": [
      "\u001b[34m\u001b[1mtrain: \u001b[0mScanning E:\\COCO-Dataset\\val2017\\train\\labels... 1000 images, 9 backgrounds, 0 corrupt: 100%|██████████| 1000/1000 [00:01<00:00, 567.03it/s]"
     ]
    },
    {
     "name": "stdout",
     "output_type": "stream",
     "text": [
      "\u001b[34m\u001b[1mtrain: \u001b[0mNew cache created: E:\\COCO-Dataset\\val2017\\train\\labels.cache\n"
     ]
    },
    {
     "name": "stderr",
     "output_type": "stream",
     "text": [
      "\n"
     ]
    },
    {
     "name": "stdout",
     "output_type": "stream",
     "text": [
      "\u001b[34m\u001b[1mval: \u001b[0mFast image access  (ping: 0.10.0 ms, read: 20.24.9 MB/s, size: 183.2 KB)\n"
     ]
    },
    {
     "name": "stderr",
     "output_type": "stream",
     "text": [
      "\u001b[34m\u001b[1mval: \u001b[0mScanning E:\\COCO-Dataset\\val2017\\val\\labels... 4000 images, 39 backgrounds, 0 corrupt: 100%|██████████| 4000/4000 [00:07<00:00, 516.12it/s]\n"
     ]
    },
    {
     "name": "stdout",
     "output_type": "stream",
     "text": [
      "\u001b[34m\u001b[1mval: \u001b[0mNew cache created: E:\\COCO-Dataset\\val2017\\val\\labels.cache\n",
      "Plotting labels to runs\\detect\\yolov11-initial\\labels.jpg... \n",
      "\u001b[34m\u001b[1moptimizer:\u001b[0m 'optimizer=auto' found, ignoring 'lr0=0.01' and 'momentum=0.937' and determining best 'optimizer', 'lr0' and 'momentum' automatically... \n",
      "\u001b[34m\u001b[1moptimizer:\u001b[0m AdamW(lr=0.000119, momentum=0.9) with parameter groups 167 weight(decay=0.0), 174 weight(decay=0.0005), 173 bias(decay=0.0)\n",
      "Image sizes 480 train, 480 val\n",
      "Using 8 dataloader workers\n",
      "Logging results to \u001b[1mruns\\detect\\yolov11-initial\u001b[0m\n",
      "Starting training for 50 epochs...\n",
      "\n",
      "      Epoch    GPU_mem   box_loss   cls_loss   dfl_loss  Instances       Size\n"
     ]
    },
    {
     "name": "stderr",
     "output_type": "stream",
     "text": [
      "       1/50      5.13G     0.9987      1.012      1.174        113        480: 100%|██████████| 125/125 [00:52<00:00,  2.39it/s]\n",
      "                 Class     Images  Instances      Box(P          R      mAP50  mAP50-95): 100%|██████████| 250/250 [00:58<00:00,  4.26it/s]\n"
     ]
    },
    {
     "name": "stdout",
     "output_type": "stream",
     "text": [
      "                   all       4000      29401      0.692      0.592      0.636      0.471\n",
      "\n",
      "      Epoch    GPU_mem   box_loss   cls_loss   dfl_loss  Instances       Size\n"
     ]
    },
    {
     "name": "stderr",
     "output_type": "stream",
     "text": [
      "       2/50      5.49G      1.008       1.02      1.143         71        480: 100%|██████████| 125/125 [00:48<00:00,  2.58it/s]\n",
      "                 Class     Images  Instances      Box(P          R      mAP50  mAP50-95): 100%|██████████| 250/250 [01:07<00:00,  3.69it/s]\n"
     ]
    },
    {
     "name": "stdout",
     "output_type": "stream",
     "text": [
      "                   all       4000      29401      0.651      0.523      0.561      0.405\n",
      "\n",
      "      Epoch    GPU_mem   box_loss   cls_loss   dfl_loss  Instances       Size\n"
     ]
    },
    {
     "name": "stderr",
     "output_type": "stream",
     "text": [
      "       3/50      5.31G       1.03      1.061      1.164        119        480: 100%|██████████| 125/125 [00:49<00:00,  2.52it/s]\n",
      "                 Class     Images  Instances      Box(P          R      mAP50  mAP50-95): 100%|██████████| 250/250 [00:58<00:00,  4.27it/s]\n"
     ]
    },
    {
     "name": "stdout",
     "output_type": "stream",
     "text": [
      "                   all       4000      29401      0.605       0.49      0.505      0.351\n",
      "\n",
      "      Epoch    GPU_mem   box_loss   cls_loss   dfl_loss  Instances       Size\n"
     ]
    },
    {
     "name": "stderr",
     "output_type": "stream",
     "text": [
      "       4/50       5.5G      1.057        1.1      1.188         88        480: 100%|██████████| 125/125 [00:48<00:00,  2.60it/s]\n",
      "                 Class     Images  Instances      Box(P          R      mAP50  mAP50-95): 100%|██████████| 250/250 [01:00<00:00,  4.17it/s]\n"
     ]
    },
    {
     "name": "stdout",
     "output_type": "stream",
     "text": [
      "                   all       4000      29401      0.565      0.443       0.45      0.308\n",
      "\n",
      "      Epoch    GPU_mem   box_loss   cls_loss   dfl_loss  Instances       Size\n"
     ]
    },
    {
     "name": "stderr",
     "output_type": "stream",
     "text": [
      "       5/50      5.35G      1.017      1.082      1.182         85        480: 100%|██████████| 125/125 [00:48<00:00,  2.60it/s]\n",
      "                 Class     Images  Instances      Box(P          R      mAP50  mAP50-95): 100%|██████████| 250/250 [00:57<00:00,  4.32it/s]\n"
     ]
    },
    {
     "name": "stdout",
     "output_type": "stream",
     "text": [
      "                   all       4000      29401      0.575      0.446      0.461      0.317\n",
      "\n",
      "      Epoch    GPU_mem   box_loss   cls_loss   dfl_loss  Instances       Size\n"
     ]
    },
    {
     "name": "stderr",
     "output_type": "stream",
     "text": [
      "       6/50      5.46G      1.015      1.044      1.174        100        480: 100%|██████████| 125/125 [00:47<00:00,  2.63it/s]\n",
      "                 Class     Images  Instances      Box(P          R      mAP50  mAP50-95): 100%|██████████| 250/250 [00:57<00:00,  4.33it/s]\n"
     ]
    },
    {
     "name": "stdout",
     "output_type": "stream",
     "text": [
      "                   all       4000      29401      0.579      0.451      0.468      0.319\n",
      "\n",
      "      Epoch    GPU_mem   box_loss   cls_loss   dfl_loss  Instances       Size\n"
     ]
    },
    {
     "name": "stderr",
     "output_type": "stream",
     "text": [
      "       7/50      5.47G     0.9974     0.9929       1.16        122        480: 100%|██████████| 125/125 [00:47<00:00,  2.63it/s]\n",
      "                 Class     Images  Instances      Box(P          R      mAP50  mAP50-95): 100%|██████████| 250/250 [00:58<00:00,  4.30it/s]\n"
     ]
    },
    {
     "name": "stdout",
     "output_type": "stream",
     "text": [
      "                   all       4000      29401      0.559      0.437       0.45      0.304\n",
      "\n",
      "      Epoch    GPU_mem   box_loss   cls_loss   dfl_loss  Instances       Size\n"
     ]
    },
    {
     "name": "stderr",
     "output_type": "stream",
     "text": [
      "       8/50      5.52G     0.9672     0.9637      1.157         90        480: 100%|██████████| 125/125 [00:47<00:00,  2.63it/s]\n",
      "                 Class     Images  Instances      Box(P          R      mAP50  mAP50-95): 100%|██████████| 250/250 [00:59<00:00,  4.18it/s]\n"
     ]
    },
    {
     "name": "stdout",
     "output_type": "stream",
     "text": [
      "                   all       4000      29401      0.583      0.435      0.449      0.307\n",
      "\n",
      "      Epoch    GPU_mem   box_loss   cls_loss   dfl_loss  Instances       Size\n"
     ]
    },
    {
     "name": "stderr",
     "output_type": "stream",
     "text": [
      "       9/50       5.5G     0.9728     0.9319      1.145        139        480: 100%|██████████| 125/125 [00:47<00:00,  2.63it/s]\n",
      "                 Class     Images  Instances      Box(P          R      mAP50  mAP50-95): 100%|██████████| 250/250 [00:57<00:00,  4.31it/s]\n"
     ]
    },
    {
     "name": "stdout",
     "output_type": "stream",
     "text": [
      "                   all       4000      29401      0.569      0.421      0.438      0.299\n",
      "\n",
      "      Epoch    GPU_mem   box_loss   cls_loss   dfl_loss  Instances       Size\n"
     ]
    },
    {
     "name": "stderr",
     "output_type": "stream",
     "text": [
      "      10/50      5.48G     0.9495     0.9008      1.139        138        480: 100%|██████████| 125/125 [00:47<00:00,  2.62it/s]\n",
      "                 Class     Images  Instances      Box(P          R      mAP50  mAP50-95): 100%|██████████| 250/250 [01:00<00:00,  4.16it/s]\n"
     ]
    },
    {
     "name": "stdout",
     "output_type": "stream",
     "text": [
      "                   all       4000      29401      0.564      0.435      0.443      0.302\n",
      "\n",
      "      Epoch    GPU_mem   box_loss   cls_loss   dfl_loss  Instances       Size\n"
     ]
    },
    {
     "name": "stderr",
     "output_type": "stream",
     "text": [
      "      11/50      5.47G     0.9506      0.864      1.124        116        480: 100%|██████████| 125/125 [00:47<00:00,  2.62it/s]\n",
      "                 Class     Images  Instances      Box(P          R      mAP50  mAP50-95): 100%|██████████| 250/250 [00:59<00:00,  4.19it/s]\n"
     ]
    },
    {
     "name": "stdout",
     "output_type": "stream",
     "text": [
      "                   all       4000      29401       0.56       0.44      0.449      0.309\n",
      "\n",
      "      Epoch    GPU_mem   box_loss   cls_loss   dfl_loss  Instances       Size\n"
     ]
    },
    {
     "name": "stderr",
     "output_type": "stream",
     "text": [
      "      12/50      5.47G     0.9307     0.8432      1.128        101        480: 100%|██████████| 125/125 [00:47<00:00,  2.62it/s]\n",
      "                 Class     Images  Instances      Box(P          R      mAP50  mAP50-95): 100%|██████████| 250/250 [00:59<00:00,  4.19it/s]\n"
     ]
    },
    {
     "name": "stdout",
     "output_type": "stream",
     "text": [
      "                   all       4000      29401      0.564      0.431      0.452      0.313\n",
      "\n",
      "      Epoch    GPU_mem   box_loss   cls_loss   dfl_loss  Instances       Size\n"
     ]
    },
    {
     "name": "stderr",
     "output_type": "stream",
     "text": [
      "      13/50      5.31G     0.9141     0.8067      1.107        108        480: 100%|██████████| 125/125 [00:47<00:00,  2.63it/s]\n",
      "                 Class     Images  Instances      Box(P          R      mAP50  mAP50-95): 100%|██████████| 250/250 [00:57<00:00,  4.34it/s]\n"
     ]
    },
    {
     "name": "stdout",
     "output_type": "stream",
     "text": [
      "                   all       4000      29401      0.577      0.429      0.443      0.304\n",
      "\n",
      "      Epoch    GPU_mem   box_loss   cls_loss   dfl_loss  Instances       Size\n"
     ]
    },
    {
     "name": "stderr",
     "output_type": "stream",
     "text": [
      "      14/50      5.49G     0.8905     0.7833       1.09        129        480: 100%|██████████| 125/125 [00:47<00:00,  2.62it/s]\n",
      "                 Class     Images  Instances      Box(P          R      mAP50  mAP50-95): 100%|██████████| 250/250 [00:59<00:00,  4.19it/s]\n"
     ]
    },
    {
     "name": "stdout",
     "output_type": "stream",
     "text": [
      "                   all       4000      29401      0.573      0.424      0.446      0.306\n",
      "\n",
      "      Epoch    GPU_mem   box_loss   cls_loss   dfl_loss  Instances       Size\n"
     ]
    },
    {
     "name": "stderr",
     "output_type": "stream",
     "text": [
      "      15/50      5.46G     0.8744     0.7795      1.087         75        480: 100%|██████████| 125/125 [00:47<00:00,  2.63it/s]\n",
      "                 Class     Images  Instances      Box(P          R      mAP50  mAP50-95): 100%|██████████| 250/250 [00:58<00:00,  4.26it/s]\n"
     ]
    },
    {
     "name": "stdout",
     "output_type": "stream",
     "text": [
      "                   all       4000      29401      0.563       0.43      0.444      0.301\n",
      "\n",
      "      Epoch    GPU_mem   box_loss   cls_loss   dfl_loss  Instances       Size\n"
     ]
    },
    {
     "name": "stderr",
     "output_type": "stream",
     "text": [
      "      16/50      5.49G     0.8778     0.7572      1.082        130        480: 100%|██████████| 125/125 [00:47<00:00,  2.63it/s]\n",
      "                 Class     Images  Instances      Box(P          R      mAP50  mAP50-95): 100%|██████████| 250/250 [01:00<00:00,  4.14it/s]\n"
     ]
    },
    {
     "name": "stdout",
     "output_type": "stream",
     "text": [
      "                   all       4000      29401      0.597      0.421       0.44      0.303\n",
      "\n",
      "      Epoch    GPU_mem   box_loss   cls_loss   dfl_loss  Instances       Size\n"
     ]
    },
    {
     "name": "stderr",
     "output_type": "stream",
     "text": [
      "      17/50      5.49G     0.8495     0.7265      1.075        101        480: 100%|██████████| 125/125 [00:47<00:00,  2.62it/s]\n",
      "                 Class     Images  Instances      Box(P          R      mAP50  mAP50-95): 100%|██████████| 250/250 [00:58<00:00,  4.31it/s]\n"
     ]
    },
    {
     "name": "stdout",
     "output_type": "stream",
     "text": [
      "                   all       4000      29401      0.598       0.43      0.455      0.313\n",
      "\n",
      "      Epoch    GPU_mem   box_loss   cls_loss   dfl_loss  Instances       Size\n"
     ]
    },
    {
     "name": "stderr",
     "output_type": "stream",
     "text": [
      "      18/50      5.48G     0.8551      0.721      1.079        159        480: 100%|██████████| 125/125 [00:47<00:00,  2.63it/s]\n",
      "                 Class     Images  Instances      Box(P          R      mAP50  mAP50-95): 100%|██████████| 250/250 [00:59<00:00,  4.19it/s]\n"
     ]
    },
    {
     "name": "stdout",
     "output_type": "stream",
     "text": [
      "                   all       4000      29401      0.556      0.426       0.44      0.298\n",
      "\n",
      "      Epoch    GPU_mem   box_loss   cls_loss   dfl_loss  Instances       Size\n"
     ]
    },
    {
     "name": "stderr",
     "output_type": "stream",
     "text": [
      "      19/50      5.46G     0.8352     0.6991       1.07         71        480: 100%|██████████| 125/125 [00:47<00:00,  2.63it/s]\n",
      "                 Class     Images  Instances      Box(P          R      mAP50  mAP50-95): 100%|██████████| 250/250 [00:59<00:00,  4.17it/s]\n"
     ]
    },
    {
     "name": "stdout",
     "output_type": "stream",
     "text": [
      "                   all       4000      29401      0.565      0.423      0.439      0.301\n",
      "\n",
      "      Epoch    GPU_mem   box_loss   cls_loss   dfl_loss  Instances       Size\n"
     ]
    },
    {
     "name": "stderr",
     "output_type": "stream",
     "text": [
      "      20/50       5.5G     0.8369     0.6971      1.068         54        480: 100%|██████████| 125/125 [00:47<00:00,  2.63it/s]\n",
      "                 Class     Images  Instances      Box(P          R      mAP50  mAP50-95): 100%|██████████| 250/250 [00:57<00:00,  4.33it/s]\n"
     ]
    },
    {
     "name": "stdout",
     "output_type": "stream",
     "text": [
      "                   all       4000      29401      0.565      0.429      0.435      0.297\n",
      "\n",
      "      Epoch    GPU_mem   box_loss   cls_loss   dfl_loss  Instances       Size\n"
     ]
    },
    {
     "name": "stderr",
     "output_type": "stream",
     "text": [
      "      21/50      5.33G     0.8185     0.6767      1.065        162        480: 100%|██████████| 125/125 [00:47<00:00,  2.63it/s]\n",
      "                 Class     Images  Instances      Box(P          R      mAP50  mAP50-95): 100%|██████████| 250/250 [00:57<00:00,  4.33it/s]\n"
     ]
    },
    {
     "name": "stdout",
     "output_type": "stream",
     "text": [
      "                   all       4000      29401      0.587      0.424      0.442      0.301\n",
      "\n",
      "      Epoch    GPU_mem   box_loss   cls_loss   dfl_loss  Instances       Size\n"
     ]
    },
    {
     "name": "stderr",
     "output_type": "stream",
     "text": [
      "      22/50      5.47G     0.8121     0.6557      1.047         81        480: 100%|██████████| 125/125 [00:47<00:00,  2.62it/s]\n",
      "                 Class     Images  Instances      Box(P          R      mAP50  mAP50-95): 100%|██████████| 250/250 [00:57<00:00,  4.34it/s]\n"
     ]
    },
    {
     "name": "stdout",
     "output_type": "stream",
     "text": [
      "                   all       4000      29401      0.578      0.428      0.442      0.304\n",
      "\n",
      "      Epoch    GPU_mem   box_loss   cls_loss   dfl_loss  Instances       Size\n"
     ]
    },
    {
     "name": "stderr",
     "output_type": "stream",
     "text": [
      "      23/50       5.5G     0.8135     0.6576      1.058        134        480: 100%|██████████| 125/125 [00:47<00:00,  2.63it/s]\n",
      "                 Class     Images  Instances      Box(P          R      mAP50  mAP50-95): 100%|██████████| 250/250 [00:57<00:00,  4.34it/s]\n"
     ]
    },
    {
     "name": "stdout",
     "output_type": "stream",
     "text": [
      "                   all       4000      29401      0.577      0.415      0.438      0.301\n",
      "\n",
      "      Epoch    GPU_mem   box_loss   cls_loss   dfl_loss  Instances       Size\n"
     ]
    },
    {
     "name": "stderr",
     "output_type": "stream",
     "text": [
      "      24/50       5.5G     0.7907     0.6365      1.044        108        480: 100%|██████████| 125/125 [00:47<00:00,  2.63it/s]\n",
      "                 Class     Images  Instances      Box(P          R      mAP50  mAP50-95): 100%|██████████| 250/250 [00:57<00:00,  4.34it/s]\n"
     ]
    },
    {
     "name": "stdout",
     "output_type": "stream",
     "text": [
      "                   all       4000      29401      0.577      0.414      0.435      0.298\n",
      "\n",
      "      Epoch    GPU_mem   box_loss   cls_loss   dfl_loss  Instances       Size\n"
     ]
    },
    {
     "name": "stderr",
     "output_type": "stream",
     "text": [
      "      25/50      5.47G      0.771     0.5955      1.028        105        480: 100%|██████████| 125/125 [00:47<00:00,  2.62it/s]\n",
      "                 Class     Images  Instances      Box(P          R      mAP50  mAP50-95): 100%|██████████| 250/250 [00:58<00:00,  4.31it/s]\n"
     ]
    },
    {
     "name": "stdout",
     "output_type": "stream",
     "text": [
      "                   all       4000      29401      0.591      0.422      0.448       0.31\n",
      "\n",
      "      Epoch    GPU_mem   box_loss   cls_loss   dfl_loss  Instances       Size\n"
     ]
    },
    {
     "name": "stderr",
     "output_type": "stream",
     "text": [
      "      26/50      5.49G     0.7645     0.6054      1.029        145        480: 100%|██████████| 125/125 [00:47<00:00,  2.63it/s]\n",
      "                 Class     Images  Instances      Box(P          R      mAP50  mAP50-95): 100%|██████████| 250/250 [00:57<00:00,  4.32it/s]\n"
     ]
    },
    {
     "name": "stdout",
     "output_type": "stream",
     "text": [
      "                   all       4000      29401      0.591      0.429      0.453      0.311\n",
      "\n",
      "      Epoch    GPU_mem   box_loss   cls_loss   dfl_loss  Instances       Size\n"
     ]
    },
    {
     "name": "stderr",
     "output_type": "stream",
     "text": [
      "      27/50      5.46G     0.7701     0.5999      1.028         87        480: 100%|██████████| 125/125 [00:47<00:00,  2.62it/s]\n",
      "                 Class     Images  Instances      Box(P          R      mAP50  mAP50-95): 100%|██████████| 250/250 [00:57<00:00,  4.34it/s]\n"
     ]
    },
    {
     "name": "stdout",
     "output_type": "stream",
     "text": [
      "                   all       4000      29401      0.589      0.423      0.446      0.308\n",
      "\n",
      "      Epoch    GPU_mem   box_loss   cls_loss   dfl_loss  Instances       Size\n"
     ]
    },
    {
     "name": "stderr",
     "output_type": "stream",
     "text": [
      "      28/50      5.47G      0.745     0.5805      1.018        112        480: 100%|██████████| 125/125 [00:47<00:00,  2.62it/s]\n",
      "                 Class     Images  Instances      Box(P          R      mAP50  mAP50-95): 100%|██████████| 250/250 [00:57<00:00,  4.32it/s]\n"
     ]
    },
    {
     "name": "stdout",
     "output_type": "stream",
     "text": [
      "                   all       4000      29401      0.581      0.427      0.449      0.309\n",
      "\n",
      "      Epoch    GPU_mem   box_loss   cls_loss   dfl_loss  Instances       Size\n"
     ]
    },
    {
     "name": "stderr",
     "output_type": "stream",
     "text": [
      "      29/50      5.31G     0.7586     0.5873       1.02        123        480: 100%|██████████| 125/125 [00:47<00:00,  2.62it/s]\n",
      "                 Class     Images  Instances      Box(P          R      mAP50  mAP50-95): 100%|██████████| 250/250 [00:57<00:00,  4.32it/s]\n"
     ]
    },
    {
     "name": "stdout",
     "output_type": "stream",
     "text": [
      "                   all       4000      29401        0.6      0.427      0.451      0.311\n",
      "\n",
      "      Epoch    GPU_mem   box_loss   cls_loss   dfl_loss  Instances       Size\n"
     ]
    },
    {
     "name": "stderr",
     "output_type": "stream",
     "text": [
      "      30/50      5.47G     0.7433     0.5539      1.016        106        480: 100%|██████████| 125/125 [00:47<00:00,  2.62it/s]\n",
      "                 Class     Images  Instances      Box(P          R      mAP50  mAP50-95): 100%|██████████| 250/250 [00:57<00:00,  4.32it/s]\n"
     ]
    },
    {
     "name": "stdout",
     "output_type": "stream",
     "text": [
      "                   all       4000      29401      0.596      0.419       0.45      0.311\n",
      "\n",
      "      Epoch    GPU_mem   box_loss   cls_loss   dfl_loss  Instances       Size\n"
     ]
    },
    {
     "name": "stderr",
     "output_type": "stream",
     "text": [
      "      31/50      5.49G     0.7352     0.5619      1.005        131        480: 100%|██████████| 125/125 [00:47<00:00,  2.62it/s]\n",
      "                 Class     Images  Instances      Box(P          R      mAP50  mAP50-95): 100%|██████████| 250/250 [00:57<00:00,  4.33it/s]\n"
     ]
    },
    {
     "name": "stdout",
     "output_type": "stream",
     "text": [
      "                   all       4000      29401      0.572      0.431      0.452      0.315\n",
      "\n",
      "      Epoch    GPU_mem   box_loss   cls_loss   dfl_loss  Instances       Size\n"
     ]
    },
    {
     "name": "stderr",
     "output_type": "stream",
     "text": [
      "      32/50      5.47G     0.7329     0.5487      1.009        102        480: 100%|██████████| 125/125 [00:47<00:00,  2.63it/s]\n",
      "                 Class     Images  Instances      Box(P          R      mAP50  mAP50-95): 100%|██████████| 250/250 [00:57<00:00,  4.33it/s]\n"
     ]
    },
    {
     "name": "stdout",
     "output_type": "stream",
     "text": [
      "                   all       4000      29401      0.576      0.426      0.446      0.309\n",
      "\n",
      "      Epoch    GPU_mem   box_loss   cls_loss   dfl_loss  Instances       Size\n"
     ]
    },
    {
     "name": "stderr",
     "output_type": "stream",
     "text": [
      "      33/50      5.49G      0.724     0.5305      1.006        152        480: 100%|██████████| 125/125 [00:47<00:00,  2.63it/s]\n",
      "                 Class     Images  Instances      Box(P          R      mAP50  mAP50-95): 100%|██████████| 250/250 [00:57<00:00,  4.33it/s]\n"
     ]
    },
    {
     "name": "stdout",
     "output_type": "stream",
     "text": [
      "                   all       4000      29401      0.583      0.435      0.454      0.314\n",
      "\n",
      "      Epoch    GPU_mem   box_loss   cls_loss   dfl_loss  Instances       Size\n"
     ]
    },
    {
     "name": "stderr",
     "output_type": "stream",
     "text": [
      "      34/50      5.47G     0.7125     0.5226      1.008        192        480: 100%|██████████| 125/125 [00:47<00:00,  2.64it/s]\n",
      "                 Class     Images  Instances      Box(P          R      mAP50  mAP50-95): 100%|██████████| 250/250 [00:57<00:00,  4.35it/s]\n"
     ]
    },
    {
     "name": "stdout",
     "output_type": "stream",
     "text": [
      "                   all       4000      29401      0.589      0.427      0.451      0.312\n",
      "\n",
      "      Epoch    GPU_mem   box_loss   cls_loss   dfl_loss  Instances       Size\n"
     ]
    },
    {
     "name": "stderr",
     "output_type": "stream",
     "text": [
      "      35/50      5.48G     0.7089     0.5165     0.9944         71        480: 100%|██████████| 125/125 [00:47<00:00,  2.63it/s]\n",
      "                 Class     Images  Instances      Box(P          R      mAP50  mAP50-95): 100%|██████████| 250/250 [00:57<00:00,  4.36it/s]\n"
     ]
    },
    {
     "name": "stdout",
     "output_type": "stream",
     "text": [
      "                   all       4000      29401      0.588      0.434      0.455      0.317\n",
      "\n",
      "      Epoch    GPU_mem   box_loss   cls_loss   dfl_loss  Instances       Size\n"
     ]
    },
    {
     "name": "stderr",
     "output_type": "stream",
     "text": [
      "      36/50      5.48G     0.6921     0.4959      0.976        127        480: 100%|██████████| 125/125 [00:47<00:00,  2.62it/s]\n",
      "                 Class     Images  Instances      Box(P          R      mAP50  mAP50-95): 100%|██████████| 250/250 [00:57<00:00,  4.34it/s]\n"
     ]
    },
    {
     "name": "stdout",
     "output_type": "stream",
     "text": [
      "                   all       4000      29401      0.607      0.431      0.454      0.315\n",
      "\n",
      "      Epoch    GPU_mem   box_loss   cls_loss   dfl_loss  Instances       Size\n"
     ]
    },
    {
     "name": "stderr",
     "output_type": "stream",
     "text": [
      "      37/50      5.32G     0.6768     0.4863     0.9858         98        480: 100%|██████████| 125/125 [00:47<00:00,  2.63it/s]\n",
      "                 Class     Images  Instances      Box(P          R      mAP50  mAP50-95): 100%|██████████| 250/250 [00:57<00:00,  4.33it/s]\n"
     ]
    },
    {
     "name": "stdout",
     "output_type": "stream",
     "text": [
      "                   all       4000      29401       0.61      0.435      0.461      0.321\n",
      "\n",
      "      Epoch    GPU_mem   box_loss   cls_loss   dfl_loss  Instances       Size\n"
     ]
    },
    {
     "name": "stderr",
     "output_type": "stream",
     "text": [
      "      38/50      5.45G     0.6792      0.494     0.9918         49        480: 100%|██████████| 125/125 [00:47<00:00,  2.62it/s]\n",
      "                 Class     Images  Instances      Box(P          R      mAP50  mAP50-95): 100%|██████████| 250/250 [00:57<00:00,  4.34it/s]\n"
     ]
    },
    {
     "name": "stdout",
     "output_type": "stream",
     "text": [
      "                   all       4000      29401      0.599      0.445      0.464      0.322\n",
      "\n",
      "      Epoch    GPU_mem   box_loss   cls_loss   dfl_loss  Instances       Size\n"
     ]
    },
    {
     "name": "stderr",
     "output_type": "stream",
     "text": [
      "      39/50      5.48G     0.6682     0.4729     0.9799         60        480: 100%|██████████| 125/125 [00:47<00:00,  2.62it/s]\n",
      "                 Class     Images  Instances      Box(P          R      mAP50  mAP50-95): 100%|██████████| 250/250 [00:57<00:00,  4.32it/s]\n"
     ]
    },
    {
     "name": "stdout",
     "output_type": "stream",
     "text": [
      "                   all       4000      29401      0.613      0.433      0.462       0.32\n",
      "\n",
      "      Epoch    GPU_mem   box_loss   cls_loss   dfl_loss  Instances       Size\n"
     ]
    },
    {
     "name": "stderr",
     "output_type": "stream",
     "text": [
      "      40/50      5.47G     0.6584     0.4647     0.9729         78        480: 100%|██████████| 125/125 [00:47<00:00,  2.62it/s]\n",
      "                 Class     Images  Instances      Box(P          R      mAP50  mAP50-95): 100%|██████████| 250/250 [00:57<00:00,  4.34it/s]\n"
     ]
    },
    {
     "name": "stdout",
     "output_type": "stream",
     "text": [
      "                   all       4000      29401      0.591      0.438      0.462       0.32\n",
      "Closing dataloader mosaic\n",
      "\n",
      "      Epoch    GPU_mem   box_loss   cls_loss   dfl_loss  Instances       Size\n"
     ]
    },
    {
     "name": "stderr",
     "output_type": "stream",
     "text": [
      "      41/50      5.46G     0.6058     0.3896     0.9106         51        480: 100%|██████████| 125/125 [00:47<00:00,  2.64it/s]\n",
      "                 Class     Images  Instances      Box(P          R      mAP50  mAP50-95): 100%|██████████| 250/250 [00:57<00:00,  4.35it/s]\n"
     ]
    },
    {
     "name": "stdout",
     "output_type": "stream",
     "text": [
      "                   all       4000      29401      0.604      0.429      0.456      0.318\n",
      "\n",
      "      Epoch    GPU_mem   box_loss   cls_loss   dfl_loss  Instances       Size\n"
     ]
    },
    {
     "name": "stderr",
     "output_type": "stream",
     "text": [
      "      42/50      5.48G     0.5887     0.3661     0.9086         52        480: 100%|██████████| 125/125 [00:47<00:00,  2.62it/s]\n",
      "                 Class     Images  Instances      Box(P          R      mAP50  mAP50-95): 100%|██████████| 250/250 [00:58<00:00,  4.30it/s]\n"
     ]
    },
    {
     "name": "stdout",
     "output_type": "stream",
     "text": [
      "                   all       4000      29401        0.6      0.424      0.454      0.317\n",
      "\n",
      "      Epoch    GPU_mem   box_loss   cls_loss   dfl_loss  Instances       Size\n"
     ]
    },
    {
     "name": "stderr",
     "output_type": "stream",
     "text": [
      "      43/50      5.47G     0.5872     0.3642      0.913         50        480: 100%|██████████| 125/125 [00:48<00:00,  2.58it/s]\n",
      "                 Class     Images  Instances      Box(P          R      mAP50  mAP50-95): 100%|██████████| 250/250 [00:57<00:00,  4.34it/s]\n"
     ]
    },
    {
     "name": "stdout",
     "output_type": "stream",
     "text": [
      "                   all       4000      29401      0.594      0.427      0.451      0.316\n",
      "\n",
      "      Epoch    GPU_mem   box_loss   cls_loss   dfl_loss  Instances       Size\n"
     ]
    },
    {
     "name": "stderr",
     "output_type": "stream",
     "text": [
      "      44/50      5.49G     0.5811     0.3558     0.9024         41        480: 100%|██████████| 125/125 [00:47<00:00,  2.63it/s]\n",
      "                 Class     Images  Instances      Box(P          R      mAP50  mAP50-95): 100%|██████████| 250/250 [00:57<00:00,  4.34it/s]"
     ]
    },
    {
     "name": "stdout",
     "output_type": "stream",
     "text": [
      "                   all       4000      29401      0.612      0.425      0.457      0.321\n"
     ]
    },
    {
     "name": "stderr",
     "output_type": "stream",
     "text": [
      "\n"
     ]
    },
    {
     "name": "stdout",
     "output_type": "stream",
     "text": [
      "\n",
      "      Epoch    GPU_mem   box_loss   cls_loss   dfl_loss  Instances       Size\n"
     ]
    },
    {
     "name": "stderr",
     "output_type": "stream",
     "text": [
      "      45/50      5.31G     0.5713     0.3469     0.8952         62        480: 100%|██████████| 125/125 [00:48<00:00,  2.60it/s]\n",
      "                 Class     Images  Instances      Box(P          R      mAP50  mAP50-95): 100%|██████████| 250/250 [00:58<00:00,  4.26it/s]\n"
     ]
    },
    {
     "name": "stdout",
     "output_type": "stream",
     "text": [
      "                   all       4000      29401      0.608      0.432      0.461      0.325\n",
      "\n",
      "      Epoch    GPU_mem   box_loss   cls_loss   dfl_loss  Instances       Size\n"
     ]
    },
    {
     "name": "stderr",
     "output_type": "stream",
     "text": [
      "      46/50      5.48G     0.5668     0.3503     0.8995         35        480: 100%|██████████| 125/125 [00:48<00:00,  2.60it/s]\n",
      "                 Class     Images  Instances      Box(P          R      mAP50  mAP50-95): 100%|██████████| 250/250 [00:58<00:00,  4.29it/s]\n"
     ]
    },
    {
     "name": "stdout",
     "output_type": "stream",
     "text": [
      "                   all       4000      29401      0.607      0.433       0.46      0.325\n",
      "\n",
      "      Epoch    GPU_mem   box_loss   cls_loss   dfl_loss  Instances       Size\n"
     ]
    },
    {
     "name": "stderr",
     "output_type": "stream",
     "text": [
      "      47/50      5.46G     0.5697     0.3506     0.9022         44        480: 100%|██████████| 125/125 [00:47<00:00,  2.63it/s]\n",
      "                 Class     Images  Instances      Box(P          R      mAP50  mAP50-95): 100%|██████████| 250/250 [00:57<00:00,  4.32it/s]\n"
     ]
    },
    {
     "name": "stdout",
     "output_type": "stream",
     "text": [
      "                   all       4000      29401      0.609       0.43      0.457      0.323\n",
      "\n",
      "      Epoch    GPU_mem   box_loss   cls_loss   dfl_loss  Instances       Size\n"
     ]
    },
    {
     "name": "stderr",
     "output_type": "stream",
     "text": [
      "      48/50      5.46G     0.5482     0.3364     0.8893         76        480: 100%|██████████| 125/125 [00:47<00:00,  2.64it/s]\n",
      "                 Class     Images  Instances      Box(P          R      mAP50  mAP50-95): 100%|██████████| 250/250 [00:58<00:00,  4.27it/s]\n"
     ]
    },
    {
     "name": "stdout",
     "output_type": "stream",
     "text": [
      "                   all       4000      29401      0.593      0.437      0.459      0.323\n",
      "\n",
      "      Epoch    GPU_mem   box_loss   cls_loss   dfl_loss  Instances       Size\n"
     ]
    },
    {
     "name": "stderr",
     "output_type": "stream",
     "text": [
      "      49/50      5.48G     0.5555     0.3353     0.8912         74        480: 100%|██████████| 125/125 [00:47<00:00,  2.62it/s]\n",
      "                 Class     Images  Instances      Box(P          R      mAP50  mAP50-95): 100%|██████████| 250/250 [00:57<00:00,  4.36it/s]\n"
     ]
    },
    {
     "name": "stdout",
     "output_type": "stream",
     "text": [
      "                   all       4000      29401      0.595      0.443      0.463      0.326\n",
      "\n",
      "      Epoch    GPU_mem   box_loss   cls_loss   dfl_loss  Instances       Size\n"
     ]
    },
    {
     "name": "stderr",
     "output_type": "stream",
     "text": [
      "      50/50      5.46G     0.5475     0.3345     0.8898         51        480: 100%|██████████| 125/125 [00:47<00:00,  2.64it/s]\n",
      "                 Class     Images  Instances      Box(P          R      mAP50  mAP50-95): 100%|██████████| 250/250 [00:58<00:00,  4.31it/s]"
     ]
    },
    {
     "name": "stdout",
     "output_type": "stream",
     "text": [
      "                   all       4000      29401      0.605      0.436      0.461      0.325\n"
     ]
    },
    {
     "name": "stderr",
     "output_type": "stream",
     "text": [
      "\n"
     ]
    },
    {
     "name": "stdout",
     "output_type": "stream",
     "text": [
      "\n",
      "50 epochs completed in 1.613 hours.\n",
      "Optimizer stripped from runs\\detect\\yolov11-initial\\weights\\last.pt, 114.5MB\n",
      "Optimizer stripped from runs\\detect\\yolov11-initial\\weights\\best.pt, 114.5MB\n",
      "\n",
      "Validating runs\\detect\\yolov11-initial\\weights\\best.pt...\n",
      "Ultralytics 8.3.135  Python-3.13.2 torch-2.7.0+cu128 CUDA:0 (NVIDIA GeForce RTX 3060, 8192MiB)\n",
      "YOLO11x summary (fused): 190 layers, 56,919,424 parameters, 0 gradients, 194.9 GFLOPs\n"
     ]
    },
    {
     "name": "stderr",
     "output_type": "stream",
     "text": [
      "                 Class     Images  Instances      Box(P          R      mAP50  mAP50-95): 100%|██████████| 250/250 [00:56<00:00,  4.43it/s]\n"
     ]
    },
    {
     "name": "stdout",
     "output_type": "stream",
     "text": [
      "                   all       4000      29401      0.692      0.592      0.636      0.471\n",
      "                person       2167       8916       0.87      0.684       0.81      0.587\n",
      "               bicycle        118        250      0.671      0.588      0.634      0.374\n",
      "                   car        432       1587      0.779      0.585      0.681      0.455\n",
      "            motorcycle        132        311      0.722      0.733      0.762      0.519\n",
      "              airplane         80        117      0.763      0.838      0.857      0.687\n",
      "                   bus        153        239      0.735      0.753      0.802       0.68\n",
      "                 train        134        160       0.95       0.83      0.909      0.728\n",
      "                 truck        198        318      0.382      0.657      0.532      0.398\n",
      "                  boat         97        341      0.626      0.505      0.544      0.305\n",
      "         traffic light        146        475      0.664      0.469       0.52        0.3\n",
      "          fire hydrant         73         85      0.877      0.859      0.898      0.762\n",
      "             stop sign         58         63      0.786      0.635      0.734      0.647\n",
      "         parking meter         34         56      0.849      0.601      0.665      0.518\n",
      "                 bench        194        347      0.649      0.375       0.43      0.315\n",
      "                  bird         94        301      0.656      0.495      0.536      0.372\n",
      "                   cat        143        158      0.879      0.823      0.907      0.749\n",
      "                   dog        134        164      0.809      0.732      0.796      0.676\n",
      "                 horse        102        233      0.845      0.815      0.884      0.675\n",
      "                 sheep         53        252      0.459       0.79      0.694      0.514\n",
      "                   cow         72        333      0.757      0.703      0.769      0.589\n",
      "              elephant         76        232      0.769      0.905      0.893      0.716\n",
      "                  bear         32         46      0.774      0.935      0.937      0.794\n",
      "                 zebra         65        186      0.862      0.919      0.955      0.762\n",
      "               giraffe         78        172      0.888      0.923      0.942      0.774\n",
      "              backpack        195        320      0.649      0.243      0.354      0.203\n",
      "              umbrella        138        309      0.652      0.612      0.634      0.434\n",
      "               handbag        242        453      0.565      0.307       0.35        0.2\n",
      "                   tie        115        196      0.804      0.546      0.611      0.426\n",
      "              suitcase         85        231      0.735      0.551      0.666      0.453\n",
      "               frisbee         65         93      0.853      0.877      0.886      0.725\n",
      "                  skis         95        200       0.59       0.44      0.494      0.301\n",
      "             snowboard         38         56      0.606      0.446      0.519      0.386\n",
      "           sports ball        136        223      0.846      0.543      0.628      0.456\n",
      "                  kite         75        272      0.644      0.552      0.602      0.433\n",
      "          baseball bat         70        102      0.726      0.623      0.706      0.461\n",
      "        baseball glove         80        110      0.876      0.691      0.751      0.474\n",
      "            skateboard         98        133      0.886      0.835      0.854      0.659\n",
      "             surfboard        125        222      0.834      0.631      0.706      0.469\n",
      "         tennis racket        141        190      0.826      0.827      0.872       0.61\n",
      "                bottle        301        794      0.592      0.631      0.612      0.433\n",
      "            wine glass         91        270      0.786      0.545      0.667      0.449\n",
      "                   cup        310        715      0.683      0.603      0.663      0.492\n",
      "                  fork        121        163      0.589      0.572      0.632      0.475\n",
      "                 knife        144        278      0.516      0.342      0.387      0.243\n",
      "                 spoon        119        199      0.705      0.324      0.406      0.277\n",
      "                  bowl        240        446      0.643      0.517      0.579      0.448\n",
      "                banana         81        284      0.469      0.342       0.38      0.234\n",
      "                 apple         60        187       0.46      0.333      0.303      0.222\n",
      "              sandwich         74        127      0.556      0.622      0.615      0.467\n",
      "                orange         67        199      0.448      0.417      0.362      0.273\n",
      "              broccoli         52        245      0.525      0.307      0.407      0.242\n",
      "                carrot         61        249      0.433      0.362      0.327      0.208\n",
      "               hot dog         40        112      0.637      0.446      0.534      0.407\n",
      "                 pizza        122        230      0.729      0.722      0.723      0.564\n",
      "                 donut         52        278      0.605      0.644      0.638      0.515\n",
      "                  cake        106        271      0.689      0.491      0.586      0.391\n",
      "                 chair        468       1471      0.715      0.468      0.571      0.373\n",
      "                 couch        158        213      0.696       0.62      0.672      0.528\n",
      "          potted plant        140        275       0.61      0.491      0.492      0.295\n",
      "                   bed        119        132      0.623      0.735      0.703      0.505\n",
      "          dining table        405        564      0.607      0.431      0.483      0.314\n",
      "                toilet        112        131      0.726      0.771      0.799      0.654\n",
      "                    tv        174        245      0.831      0.731       0.82       0.64\n",
      "                laptop        145        184      0.682      0.788      0.808      0.695\n",
      "                 mouse         71         84      0.902      0.714      0.834      0.647\n",
      "                remote        116        232      0.709      0.514      0.619        0.4\n",
      "              keyboard         82        120      0.683      0.608      0.677      0.546\n",
      "            cell phone        183        218      0.653      0.441       0.54      0.386\n",
      "             microwave         45         46      0.768      0.719      0.759       0.63\n",
      "                  oven         86        104       0.41      0.502      0.386      0.237\n",
      "               toaster          6          6      0.537      0.333      0.309      0.234\n",
      "                  sink        144        172      0.695      0.628       0.66      0.458\n",
      "          refrigerator         86        109      0.821      0.697      0.791      0.671\n",
      "                  book        180        906      0.445      0.226      0.263      0.133\n",
      "                 clock        179        233      0.776      0.668       0.72      0.512\n",
      "                  vase        106        229      0.717      0.498      0.592      0.423\n",
      "              scissors         23         30      0.638      0.433      0.424      0.359\n",
      "            teddy bear         69        146      0.791      0.678      0.723      0.561\n",
      "            hair drier          6          8      0.516      0.125      0.234      0.154\n",
      "            toothbrush         24         44      0.611      0.432      0.466      0.374\n",
      "Speed: 0.1ms preprocess, 10.4ms inference, 0.0ms loss, 0.9ms postprocess per image\n",
      "Results saved to \u001b[1mruns\\detect\\yolov11-initial\u001b[0m\n"
     ]
    }
   ],
   "source": [
    "\n",
    "# Treinar\n",
    "results = model.train(\n",
    "    data=\"coco.yaml\",\n",
    "    epochs=50,\n",
    "    imgsz=480,\n",
    "    batch=8,\n",
    "    cache=False,\n",
    "    name=\"yolov11-initial\"\n",
    ")"
   ]
  },
  {
   "cell_type": "code",
   "execution_count": null,
   "id": "7c15e09c",
   "metadata": {},
   "outputs": [],
   "source": []
  }
 ],
 "metadata": {
  "kernelspec": {
   "display_name": "MODERN",
   "language": "python",
   "name": "python3"
  },
  "language_info": {
   "codemirror_mode": {
    "name": "ipython",
    "version": 3
   },
   "file_extension": ".py",
   "mimetype": "text/x-python",
   "name": "python",
   "nbconvert_exporter": "python",
   "pygments_lexer": "ipython3",
   "version": "3.13.2"
  }
 },
 "nbformat": 4,
 "nbformat_minor": 5
}
